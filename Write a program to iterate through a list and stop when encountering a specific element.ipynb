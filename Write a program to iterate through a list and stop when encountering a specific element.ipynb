{
 "cells": [
  {
   "cell_type": "code",
   "execution_count": 1,
   "metadata": {},
   "outputs": [
    {
     "name": "stdout",
     "output_type": "stream",
     "text": [
      "10\n",
      "20\n",
      "30\n",
      "40\n"
     ]
    }
   ],
   "source": [
    "# Define the list\n",
    "my_list = [10, 20, 30, 40, 50, 60]\n",
    "\n",
    "# Define the specific element to stop at\n",
    "stop_element = 40\n",
    "\n",
    "# Iterate through the list\n",
    "for element in my_list:\n",
    "    print(element)\n",
    "    if element == stop_element:\n",
    "        break  # Stop the loop if the specific element is encountered\n"
   ]
  }
 ],
 "metadata": {
  "kernelspec": {
   "display_name": "Python 3",
   "language": "python",
   "name": "python3"
  },
  "language_info": {
   "codemirror_mode": {
    "name": "ipython",
    "version": 3
   },
   "file_extension": ".py",
   "mimetype": "text/x-python",
   "name": "python",
   "nbconvert_exporter": "python",
   "pygments_lexer": "ipython3",
   "version": "3.11.8"
  }
 },
 "nbformat": 4,
 "nbformat_minor": 2
}
