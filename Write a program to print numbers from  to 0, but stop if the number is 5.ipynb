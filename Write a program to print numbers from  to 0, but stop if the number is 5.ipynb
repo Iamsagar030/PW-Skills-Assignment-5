{
 "cells": [
  {
   "cell_type": "code",
   "execution_count": 8,
   "metadata": {},
   "outputs": [
    {
     "name": "stdout",
     "output_type": "stream",
     "text": [
      "1\n",
      "2\n",
      "3\n",
      "4\n",
      "5\n"
     ]
    }
   ],
   "source": [
    "number = 1  # Starting number\n",
    "\n",
    "while number <= 5:\n",
    "    print(number)\n",
    "    if number == 5:\n",
    "        break  # Stop the loop if the number is 5\n",
    "    number += 1  # Decrement the number for the next iteration\n"
   ]
  },
  {
   "cell_type": "code",
   "execution_count": 9,
   "metadata": {},
   "outputs": [
    {
     "name": "stdout",
     "output_type": "stream",
     "text": [
      "10\n",
      "9\n",
      "8\n",
      "7\n",
      "6\n",
      "5\n"
     ]
    }
   ],
   "source": [
    "number = 10  # Starting number\n",
    "\n",
    "while number >= 5:\n",
    "    print(number)\n",
    "    if number == 5:\n",
    "        break  # Stop the loop if the number is 5\n",
    "    number -= 1  # Decrement the number for the next iteration\n"
   ]
  }
 ],
 "metadata": {
  "kernelspec": {
   "display_name": "Python 3",
   "language": "python",
   "name": "python3"
  },
  "language_info": {
   "codemirror_mode": {
    "name": "ipython",
    "version": 3
   },
   "file_extension": ".py",
   "mimetype": "text/x-python",
   "name": "python",
   "nbconvert_exporter": "python",
   "pygments_lexer": "ipython3",
   "version": "3.11.8"
  }
 },
 "nbformat": 4,
 "nbformat_minor": 2
}
